{
  "nbformat": 4,
  "nbformat_minor": 0,
  "metadata": {
    "colab": {
      "name": "lex.ipynb",
      "provenance": [],
      "collapsed_sections": [],
      "toc_visible": true,
      "authorship_tag": "ABX9TyOOk1Mtn6/Fo3esY3dR2kvf",
      "include_colab_link": true
    },
    "kernelspec": {
      "name": "python3",
      "display_name": "Python 3"
    }
  },
  "cells": [
    {
      "cell_type": "markdown",
      "metadata": {
        "id": "view-in-github",
        "colab_type": "text"
      },
      "source": [
        "<a href=\"https://colab.research.google.com/github/imvickykumar999/lex/blob/main/lex.ipynb\" target=\"_parent\"><img src=\"https://colab.research.google.com/assets/colab-badge.svg\" alt=\"Open In Colab\"/></a>"
      ]
    },
    {
      "cell_type": "code",
      "metadata": {
        "id": "5nOQqxKihBKt"
      },
      "source": [
        "!touch lex.l"
      ],
      "execution_count": null,
      "outputs": []
    },
    {
      "cell_type": "code",
      "metadata": {
        "colab": {
          "base_uri": "https://localhost:8080/"
        },
        "id": "KGO2XxEChIWx",
        "outputId": "3057d327-9256-4942-9843-a7bd75c3d74e"
      },
      "source": [
        "!sudo apt install flex bison"
      ],
      "execution_count": null,
      "outputs": [
        {
          "output_type": "stream",
          "text": [
            "Reading package lists... Done\n",
            "Building dependency tree       \n",
            "Reading state information... Done\n",
            "bison is already the newest version (2:3.0.4.dfsg-1build1).\n",
            "flex is already the newest version (2.6.4-6).\n",
            "0 upgraded, 0 newly installed, 0 to remove and 13 not upgraded.\n"
          ],
          "name": "stdout"
        }
      ]
    },
    {
      "cell_type": "code",
      "metadata": {
        "id": "SHjDrmZzhi-W"
      },
      "source": [
        "!lex lex.l"
      ],
      "execution_count": null,
      "outputs": []
    },
    {
      "cell_type": "code",
      "metadata": {
        "id": "ad9A6iEdhw61"
      },
      "source": [
        "!cc lex.yy.c -lfl"
      ],
      "execution_count": null,
      "outputs": []
    },
    {
      "cell_type": "code",
      "metadata": {
        "id": "fUT4kE6KoyJS",
        "colab": {
          "base_uri": "https://localhost:8080/"
        },
        "outputId": "6cc766f4-dca4-4241-bc6c-2640ad908697"
      },
      "source": [
        "!./a.out"
      ],
      "execution_count": 20,
      "outputs": [
        {
          "output_type": "stream",
          "text": [
            "\n",
            "Enter Mobile Number : 763457637\n",
            "\n",
            "Mobile Number Invalid\n",
            "\n",
            "8239957923\n",
            "\n",
            "Mobile Number Valid\n",
            "\n",
            "^C\n"
          ],
          "name": "stdout"
        }
      ]
    },
    {
      "cell_type": "code",
      "metadata": {
        "id": "2G9b0vjCq08b"
      },
      "source": [
        ""
      ],
      "execution_count": null,
      "outputs": []
    }
  ]
}